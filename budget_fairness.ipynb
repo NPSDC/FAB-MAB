{
 "cells": [
  {
   "cell_type": "code",
   "execution_count": 2,
   "metadata": {},
   "outputs": [],
   "source": [
    "from budget_mab import *\n",
    "nTimes = 10 ## number of times to run the algorithm\n",
    "B = 50000\n",
    "k = 10\n",
    "nTimes = 5\n",
    "reward_means = np.random.rand(k)\n",
    "cost_means = np.random.choice(range(1,k*10+1), size = k, replace = False)/(k*10)\n",
    "r = np.array([0.05]*k)\n",
    "alpha = 1000\n",
    "\n",
    "import time\n",
    "t_begin = time.time()\n",
    "bud_arr, reg_array = run_mab(k, B, nTimes, reward_means, cost_means, \"ucb_bud.pickle\", \"thompson\")\n",
    "t_end = time.time()\n",
    "inds, reg = compute_average(reg_array, bud_arr, interval = 100)"
   ]
  },
  {
   "cell_type": "code",
   "execution_count": null,
   "metadata": {},
   "outputs": [],
   "source": [
    "bud_arr[0][inds[0]]"
   ]
  },
  {
   "cell_type": "code",
   "execution_count": null,
   "metadata": {},
   "outputs": [],
   "source": [
    "cost_means"
   ]
  },
  {
   "cell_type": "code",
   "execution_count": null,
   "metadata": {},
   "outputs": [],
   "source": [
    "bud_arr, reg_array, fair_viol_array = run_mab(k, B, nTimes, reward_means, cost_means, \"ucb_bud.pickle\", \"thompson\", alpha, r)\n",
    "inds, reg, fair_viol = compute_average(reg_array, bud_arr, fair_viol_array, interval = 100)"
   ]
  }
 ],
 "metadata": {
  "kernelspec": {
   "display_name": "Python 3",
   "language": "python",
   "name": "python3"
  },
  "language_info": {
   "codemirror_mode": {
    "name": "ipython",
    "version": 3
   },
   "file_extension": ".py",
   "mimetype": "text/x-python",
   "name": "python",
   "nbconvert_exporter": "python",
   "pygments_lexer": "ipython3",
   "version": "3.7.4"
  }
 },
 "nbformat": 4,
 "nbformat_minor": 2
}
