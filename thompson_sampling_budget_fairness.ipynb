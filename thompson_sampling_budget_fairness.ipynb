{
 "cells": [
  {
   "cell_type": "code",
   "execution_count": 76,
   "metadata": {},
   "outputs": [],
   "source": [
    "import numpy as np\n",
    "from scipy.stats import bernoulli\n",
    "from random import seed\n",
    "from random import random"
   ]
  },
  {
   "cell_type": "code",
   "execution_count": 77,
   "metadata": {},
   "outputs": [],
   "source": [
    "def initialize(k):\n",
    "    beta_distn_reward = []\n",
    "    beta_distn_cost = []\n",
    "\n",
    "    for i in range(k):\n",
    "        beta_distn_reward.append([0.0,0.0])\n",
    "\n",
    "    for i in range(k):\n",
    "        beta_distn_cost.append([0.0,0.0])\n",
    "\n",
    "    return beta_distn_reward, beta_distn_cost\n",
    "\n",
    "def sample_reward_and_cost(arm_pulled, mu, cost):\n",
    "    reward_received = bernoulli.rvs(mu[arm_pulled], size=1)[0]\n",
    "    cost_received = bernoulli.rvs(cost[arm_pulled], size=1)[0]\n",
    "    return reward_received, cost_received\n",
    "\n",
    "def update_distn_and_budget(arm_pulled, budget, beta_distn_reward, beta_distn_cost, reward_received, cost_received):\n",
    "    # cost_records.append(cost_received)\n",
    "    # reward_records.append(reward_received)\n",
    "    # arm_pulled_records.append(arm_pulled)\n",
    "    beta_distn_reward[arm_pulled][0] += reward_received\n",
    "    beta_distn_reward[arm_pulled][1] += (1-reward_received)\n",
    "    beta_distn_cost[arm_pulled][0] += cost_received\n",
    "    beta_distn_cost[arm_pulled][1] += (1-cost_received)\n",
    "    return beta_distn_reward, beta_distn_cost\n",
    "\n",
    "def choose_arm(beta_distn_reward, beta_distn_cost, k, budget, mu, cost):\n",
    "    # reward_records = []\n",
    "    # arm_pulled_records = []\n",
    "    # cost_records = []\n",
    "\n",
    "    sampled_mean_reward = np.array([0]*k, dtype=np.float)\n",
    "    sampled_mean_cost = np.array([0]*k, dtype=np.float)\n",
    "\n",
    "    if budget>0:\n",
    "        for arm in range(k):\n",
    "            sampled_mean_reward[arm] = np.random.beta(beta_distn_reward[arm][0]+1, beta_distn_reward[arm][1]+1)\n",
    "            sampled_mean_cost[arm] = np.random.beta(beta_distn_cost[arm][0]+1, beta_distn_cost[arm][1]+1)\n",
    "        arm_pulled = np.argmax(sampled_mean_reward/sampled_mean_cost)\n",
    "        #reward_received, cost_received = sample_reward_and_cost(arm_pulled, mu, cost)\n",
    "        #budget, beta_distn_reward, beta_distn_cost = update_distn_and_budget(arm_pulled, budget, beta_distn_reward, beta_distn_cost, reward_received,cost_received)\n",
    "    return arm_pulled\n",
    "    #return reward_received, cost_received, arm_pulled, budget, beta_distn_reward, beta_distn_cost\n",
    "\n",
    "def compute_best_arm(mu, cost):\n",
    "    return np.argmax(mu/cost)"
   ]
  },
  {
   "cell_type": "code",
   "execution_count": 78,
   "metadata": {},
   "outputs": [],
   "source": [
    "def fairness_with_budget_thompson_sampling(mu, cost, budget, k, alpha = None, R = None):\n",
    "    reward_records = []\n",
    "    arm_pulled_records = []\n",
    "    cost_records = []\n",
    "    t=0\n",
    "    arm_pulled_count = np.array([0]*k)\n",
    "\n",
    "    beta_distn_reward, beta_distn_cost = initialize(k)\n",
    "\n",
    "    while budget>0:\n",
    "        play_thomp = True\n",
    "        arm_pulled = -1\n",
    "        if(alpha is not None and R is not None):\n",
    "            unfair_arm = []\n",
    "            unfair_val = []\n",
    "            for i in range(k):\n",
    "                if (r[i]*(t-1) - arm_pulled_count[i]) > alpha:\n",
    "                    unfair_arm.append(i)\n",
    "                    unfair_val.append(r[i]*(t-1) - arm_pulled_count[i])\n",
    "\n",
    "            if unfair_arm:\n",
    "                play_thomp = False\n",
    "                #print(unfair_arm, unfair_val)\n",
    "                arm_pulled = unfair_arm[np.argmax(np.array(unfair_val))]\n",
    "                \n",
    "        if play_thomp:\n",
    "            arm_pulled = choose_arm(beta_distn_reward, beta_distn_cost, k, budget, mu, cost)\n",
    "        #    reward_received, cost_received, arm_pulled, budget, beta_distn_reward, beta_distn_cost = choose_arm(beta_distn_reward, beta_distn_cost, k, budget, mu, cost)\n",
    "        #print(arm_pulled)\n",
    "        reward_received, cost_received = sample_reward_and_cost(arm_pulled, mu, cost)\n",
    "        beta_distn_reward, beta_distn_cost = update_distn_and_budget(arm_pulled, budget, beta_distn_reward, \n",
    "                                   beta_distn_cost, reward_received, cost_received)\n",
    "        t += 1\n",
    "        arm_pulled_count[arm_pulled] += 1\n",
    "        budget -= cost_received\n",
    "        cost_records.append(cost_received)\n",
    "        reward_records.append(reward_received)\n",
    "        arm_pulled_records.append(arm_pulled)\n",
    "\n",
    "\n",
    "    return arm_pulled_count, cost_records, reward_records, arm_pulled_records, t #N,"
   ]
  },
  {
   "cell_type": "code",
   "execution_count": 79,
   "metadata": {},
   "outputs": [],
   "source": [
    "def compute_regret(arm_pulled_records, mu, cost):\n",
    "    regret_record = []\n",
    "    sum_regret = 0.0\n",
    "    best_arm = compute_best_arm(mu, cost)\n",
    "    sz = len(arm_pulled_records)\n",
    "    for i in range(sz):\n",
    "        arm_pulled = arm_pulled_records[i]\n",
    "        sum_regret += cost[arm_pulled]*(mu[best_arm]/cost[best_arm] - mu[arm_pulled]/cost[arm_pulled])\n",
    "        regret_record.append(sum_regret)\n",
    "    return regret_record"
   ]
  },
  {
   "cell_type": "code",
   "execution_count": 80,
   "metadata": {},
   "outputs": [],
   "source": [
    "k = 10                          #Number of arms\n",
    "mu = np.zeros(k)                #mean_rewards\n",
    "# seed(1)\n",
    "for i in range(k):\n",
    "  mu[i] = random()\n",
    "\n",
    "cost = np.zeros(k)              #mean_costs\n",
    "for i in range(k):\n",
    "    cost[i] = random()"
   ]
  },
  {
   "cell_type": "code",
   "execution_count": 83,
   "metadata": {},
   "outputs": [],
   "source": [
    "cost = np.array([0.71138893, 0.74408936, 0.42790662, 0.81618107, 0.12610527,\n",
    "       0.57237819, 0.83745534, 0.89507443, 0.92044633, 0.10855726])\n",
    "mu = np.array([0.53761232, 0.6889405 , 0.13180401, 0.52978279, 0.16823828,\n",
    "       0.86604129, 0.99220976, 0.74377085, 0.34088901, 0.23490474])"
   ]
  },
  {
   "cell_type": "code",
   "execution_count": 85,
   "metadata": {},
   "outputs": [
    {
     "name": "stdout",
     "output_type": "stream",
     "text": [
      "145.44412276253328\n",
      "8342\n",
      "201.95929689498843\n",
      "7223\n",
      "145.62216458874636\n",
      "8694\n",
      "184.06590287949163\n",
      "8313\n",
      "164.98523203756366\n",
      "8025\n",
      "175.92959621916776\n",
      "8605\n",
      "170.1313251334877\n",
      "8100\n",
      "159.65107461621736\n",
      "8015\n",
      "302.7013160487724\n",
      "6348\n",
      "705.1857050617964\n",
      "1903\n"
     ]
    }
   ],
   "source": [
    "j = 0\n",
    "while(j <= 9):\n",
    "    B = 1000             #budget\n",
    "    # r = np.zeros(k)\n",
    "    r = np.array([0.05]*k)          #fairness_array for different arms\n",
    "    alpha = 1e10                       #tolerance_parameter for fairness\n",
    "\n",
    "    # T = 1000\n",
    "\n",
    "    arm_pulled_count, cost_records, reward_records, arm_pulled_records, t = fairness_with_budget_thompson_sampling(mu, cost, budget, k, alpha, r)\n",
    "    regret_record = compute_regret(arm_pulled_records, mu, cost)\n",
    "    j += 1\n",
    "    print (regret_record[-1])\n",
    "    print (len(regret_record))\n"
   ]
  },
  {
   "cell_type": "code",
   "execution_count": null,
   "metadata": {},
   "outputs": [],
   "source": []
  }
 ],
 "metadata": {
  "kernelspec": {
   "display_name": "Python 2",
   "language": "python",
   "name": "python2"
  },
  "language_info": {
   "codemirror_mode": {
    "name": "ipython",
    "version": 3
   },
   "file_extension": ".py",
   "mimetype": "text/x-python",
   "name": "python",
   "nbconvert_exporter": "python",
   "pygments_lexer": "ipython3",
   "version": "3.7.4"
  }
 },
 "nbformat": 4,
 "nbformat_minor": 2
}
