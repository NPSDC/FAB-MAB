{
 "cells": [
  {
   "cell_type": "code",
   "execution_count": 14,
   "metadata": {},
   "outputs": [],
   "source": [
    "import numpy as np\n",
    "from scipy.stats import bernoulli"
   ]
  },
  {
   "cell_type": "code",
   "execution_count": null,
   "metadata": {},
   "outputs": [],
   "source": [
    "u = [0.4, 0.5, 0.7]"
   ]
  },
  {
   "cell_type": "code",
   "execution_count": 103,
   "metadata": {},
   "outputs": [],
   "source": [
    "def initialize(N, T):\n",
    "    \"\"\"\n",
    "    Parameters\n",
    "    N - is the number of arms\n",
    "    T - timesteps\n",
    "    \"\"\"\n",
    "    H = np.zeros((T+2, N)) #2D Array telling number of times an arm has been played till round T\n",
    "    Q = np.zeros((T+2, N)) #2D Array telling whether containing queue (can be made shorter)\n",
    "    D = np.zeros((T+2, N)) #2D Array telling whether an arm was played in round T\n",
    "    U = np.zeros((T+1, N))\n",
    "    S_hat = np.zeros((T+1, N)) #2D Array storing the cumulated sum\n",
    "    X = np.zeros((T+1, N))\n",
    "    \n",
    "    return H, Q, D, U, S_hat, X\n",
    "\n",
    "def compute_utility_arm(X, t, i, D, H, S_hat):\n",
    "    \"\"\"\n",
    "    Parameters\n",
    "    X - 2D Array of rewards for arm across T\n",
    "    t - time round\n",
    "    i - arm index\n",
    "    D - 2D array telling whether an arm is played in round i\n",
    "    H - \n",
    "    \"\"\"\n",
    "    u_simple = 0\n",
    "    \n",
    "    u_simple = S_hat[t-1][i]/H[t-1][i]\n",
    "    u = min(u_simple + np.sqrt((3*np.log(t))/(2*H[t-1][i])),1)\n",
    "    return(u)\n",
    "\n",
    "def find_arms(Q, U, t, eta, m):\n",
    "    rewards = np.zeros(Q.shape[1])\n",
    "    for i in range(Q.shape[1]):\n",
    "        rewards[i] = Q[t][i] + eta*U[t][i]\n",
    "    arms = np.argsort(rewards)[::-1][0:m]\n",
    "    return(arms)\n",
    "    \n",
    "def LFG(N, T, R, Mu, eta, m = 1):\n",
    "    \"\"\"\n",
    "    Parameters\n",
    "    N - is the number of arms\n",
    "    T - timesteps\n",
    "    R - fraction telling number of times each arm has to be played\n",
    "    \"\"\"\n",
    "    \n",
    "    H, Q, D, U, S_hat, X = initialize(N, T)\n",
    "    for t in range(0,T+1):\n",
    "        for arm in range(N):\n",
    "            if H[t-1][arm] > 0:\n",
    "                U[t][arm] = compute_utility_arm(X, t, arm, D, H, S_hat)\n",
    "            else:\n",
    "                U[t][arm] = 1\n",
    "            Q[t][arm] = max(Q[t-1][arm] + R[arm] - D[t-1][arm], 0)\n",
    "        #print(S_hat)\n",
    "        ### Finding arms with maximum objective\n",
    "        arms = find_arms(Q, U, t, eta, m)\n",
    "        \n",
    "        D[t][arms] = 1\n",
    "        for arm in arms:\n",
    "            X[t][arm] = bernoulli.rvs(Mu[arm], size=1)[0]\n",
    "        for arm in range(Mu.shape[0]):\n",
    "            H[t][arm] = H[t-1][arm] + D[t][arm]\n",
    "            S_hat[t][i] = S_hat[t-1][i] + X[t][i]\n",
    "  #  regret = \n",
    "            \n",
    "    return H,Q,D,U"
   ]
  },
  {
   "cell_type": "code",
   "execution_count": 93,
   "metadata": {},
   "outputs": [],
   "source": [
    "\n",
    "H,Q,D,U = LFG(10, T, [0.05]*10, np.array(u), 1, 1)"
   ]
  },
  {
   "cell_type": "code",
   "execution_count": 104,
   "metadata": {},
   "outputs": [],
   "source": [
    "\n",
    "H2,Q2,D2,U2 = LFG(10, 2, [0.05]*10, np.array(u), 1, 1)"
   ]
  },
  {
   "cell_type": "code",
   "execution_count": 105,
   "metadata": {},
   "outputs": [
    {
     "name": "stdout",
     "output_type": "stream",
     "text": [
      "[[1. 1. 1. 1. 1. 1. 1. 1. 1. 1.]\n",
      " [1. 1. 1. 1. 1. 1. 1. 1. 1. 1.]\n",
      " [1. 1. 1. 1. 1. 1. 1. 1. 1. 1.]]\n"
     ]
    }
   ],
   "source": [
    "print(U2)"
   ]
  },
  {
   "cell_type": "code",
   "execution_count": 5,
   "metadata": {},
   "outputs": [],
   "source": [
    "u = [0.8]\n",
    "for i in range(1,10):\n",
    "    u.append(u[0]-(0.01*i))"
   ]
  },
  {
   "cell_type": "code",
   "execution_count": 91,
   "metadata": {},
   "outputs": [],
   "source": [
    "T = int(1e6)"
   ]
  },
  {
   "cell_type": "code",
   "execution_count": 32,
   "metadata": {},
   "outputs": [
    {
     "name": "stdout",
     "output_type": "stream",
     "text": [
      "777500.0\n"
     ]
    }
   ],
   "source": [
    "Reward_max = 0.05*T*np.sum(u)+0.5*T*u[0]\n",
    "print(Reward_max)"
   ]
  },
  {
   "cell_type": "code",
   "execution_count": 56,
   "metadata": {},
   "outputs": [
    {
     "data": {
      "text/plain": [
       "array([1., 1., 1., 1., 1., 1., 1., 1., 1., 1.])"
      ]
     },
     "execution_count": 56,
     "metadata": {},
     "output_type": "execute_result"
    }
   ],
   "source": [
    "U[50]"
   ]
  },
  {
   "cell_type": "code",
   "execution_count": null,
   "metadata": {},
   "outputs": [],
   "source": []
  }
 ],
 "metadata": {
  "kernelspec": {
   "display_name": "Python 3",
   "language": "python",
   "name": "python3"
  },
  "language_info": {
   "codemirror_mode": {
    "name": "ipython",
    "version": 3
   },
   "file_extension": ".py",
   "mimetype": "text/x-python",
   "name": "python",
   "nbconvert_exporter": "python",
   "pygments_lexer": "ipython3",
   "version": "3.7.4"
  }
 },
 "nbformat": 4,
 "nbformat_minor": 2
}
