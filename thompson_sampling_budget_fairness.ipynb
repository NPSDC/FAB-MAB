{
 "cells": [
  {
   "cell_type": "code",
   "execution_count": 22,
   "metadata": {},
   "outputs": [],
   "source": [
    "import numpy as np\n",
    "from scipy.stats import bernoulli\n",
    "from random import seed\n",
    "from random import random"
   ]
  },
  {
   "cell_type": "code",
   "execution_count": 23,
   "metadata": {},
   "outputs": [],
   "source": [
    "def initialize(k):\n",
    "    beta_distn_reward = []\n",
    "    beta_distn_cost = []\n",
    "\n",
    "    for i in range(k):\n",
    "        beta_distn_reward.append([0.0,0.0])\n",
    "\n",
    "    for i in range(k):\n",
    "        beta_distn_cost.append([0.0,0.0])\n",
    "\n",
    "    return beta_distn_reward, beta_distn_cost\n",
    "\n",
    "def sample_reward_and_cost(arm_pulled, mu, cost):\n",
    "    reward_received = bernoulli.rvs(mu[arm_pulled], size=1)[0]\n",
    "    cost_received = bernoulli.rvs(cost[arm_pulled], size=1)[0]\n",
    "    return reward_received, cost_received\n",
    "\n",
    "def update_distn_and_budget(arm_pulled, budget, beta_distn_reward, beta_distn_cost, reward_received, cost_received):\n",
    "    budget -= cost_received\n",
    "    # cost_records.append(cost_received)\n",
    "    # reward_records.append(reward_received)\n",
    "    # arm_pulled_records.append(arm_pulled)\n",
    "    beta_distn_reward[arm_pulled][0] += reward_received\n",
    "    beta_distn_reward[arm_pulled][1] += (1-reward_received)\n",
    "    beta_distn_cost[arm_pulled][0] += cost_received\n",
    "    beta_distn_cost[arm_pulled][1] += (1-cost_received)\n",
    "    return budget, beta_distn_reward, beta_distn_cost\n",
    "\n",
    "def choose_arm(beta_distn_reward, beta_distn_cost, k, budget, mu, cost):\n",
    "    # reward_records = []\n",
    "    # arm_pulled_records = []\n",
    "    # cost_records = []\n",
    "\n",
    "    sampled_mean_reward = np.array([0]*k, dtype=np.float)\n",
    "    sampled_mean_cost = np.array([0]*k, dtype=np.float)\n",
    "\n",
    "    if budget>0:\n",
    "        for arm in range(k):\n",
    "            sampled_mean_reward[arm] = np.random.beta(beta_distn_reward[arm][0]+1, beta_distn_reward[arm][1]+1)\n",
    "            sampled_mean_cost[arm] = np.random.beta(beta_distn_cost[arm][0]+1, beta_distn_cost[arm][1]+1)\n",
    "        arm_pulled = np.argmax(sampled_mean_reward/sampled_mean_cost)\n",
    "        reward_received, cost_received = sample_reward_and_cost(arm_pulled, mu, cost)\n",
    "        budget, beta_distn_reward, beta_distn_cost = update_distn_and_budget(arm_pulled, budget, beta_distn_reward, beta_distn_cost, reward_received,cost_received)\n",
    "\n",
    "    return reward_received, cost_received, arm_pulled, budget, beta_distn_reward, beta_distn_cost\n",
    "\n",
    "def compute_best_arm(mu, cost):\n",
    "    return np.argmax(mu/cost)"
   ]
  },
  {
   "cell_type": "code",
   "execution_count": 24,
   "metadata": {},
   "outputs": [],
   "source": [
    "def fairness_with_budget_thompson_sampling(mu, budget, k, cost, alpha = None, r = None):\n",
    "    reward_records = []\n",
    "    arm_pulled_records = []\n",
    "    cost_records = []\n",
    "    t=0\n",
    "    arm_pulled_count = np.array([0]*k)\n",
    "\n",
    "    beta_distn_reward, beta_distn_cost = initialize(k)\n",
    "\n",
    "    while budget>0:\n",
    "        unfair_arm = []\n",
    "        unfair_val = []\n",
    "        if(alpha is not None and r is not None):\n",
    "            for i in range(k):\n",
    "                if (r[i]*(t-1) - arm_pulled_count[i]) > alpha:\n",
    "                    unfair_arm.append(i)\n",
    "                    unfair_val.append(r[i]*(t-1) - arm_pulled_count[i])\n",
    "        if unfair_arm:\n",
    "            arm_pulled = unfair_arm[np.argmax(np.array(unfair_val))]\n",
    "            reward_received, cost_received = sample_reward_and_cost(arm_pulled, mu, cost)\n",
    "            # print(cost_received)\n",
    "            budget, beta_distn_reward, beta_distn_cost = update_distn_and_budget(arm_pulled, budget, beta_distn_reward, beta_distn_cost, reward_received, cost_received)\n",
    "        else:\n",
    "            reward_received, cost_received, arm_pulled, budget, beta_distn_reward, beta_distn_cost = choose_arm(beta_distn_reward, beta_distn_cost, k, budget, mu, cost)\n",
    "        \n",
    "        t += 1\n",
    "        arm_pulled_count[arm_pulled] += 1\n",
    "        budget -= cost_received\n",
    "        cost_records.append(cost_received)\n",
    "        reward_records.append(reward_received)\n",
    "        arm_pulled_records.append(arm_pulled)\n",
    "\n",
    "\n",
    "    return arm_pulled_count, cost_records, reward_records, arm_pulled_records"
   ]
  },
  {
   "cell_type": "code",
   "execution_count": 25,
   "metadata": {},
   "outputs": [],
   "source": [
    "def compute_regret(arm_pulled_records, mu, cost=[1]*k):\n",
    "    regret_record = []\n",
    "    sum_regret = 0.0\n",
    "    best_arm = compute_best_arm(mu, cost)\n",
    "    sz = len(arm_pulled_records)\n",
    "    for i in range(sz):\n",
    "        arm_pulled = arm_pulled_records[i]\n",
    "        sum_regret += cost[arm_pulled]*(mu[best_arm]/cost[best_arm] - mu[arm_pulled]/cost[arm_pulled])\n",
    "        regret_record.append(sum_regret)\n",
    "    return regret_record"
   ]
  },
  {
   "cell_type": "code",
   "execution_count": 26,
   "metadata": {},
   "outputs": [
    {
     "output_type": "stream",
     "name": "stdout",
     "text": "511.4235622070859\n91372\n"
    }
   ],
   "source": [
    "k = 10                          #Number of arms\n",
    "mu = np.zeros(k)                #mean_rewards\n",
    "# seed(1)\n",
    "for i in range(k):\n",
    "  mu[i] = random()\n",
    "\n",
    "cost = np.zeros(k)              #mean_costs\n",
    "for i in range(k):\n",
    "    cost[i] = random()\n",
    "\n",
    "B = budget = 10000              #budget\n",
    "# r = np.zeros(k)\n",
    "r = np.array([0.05]*k)          #fairness_array for different arms\n",
    "alpha = 10000                       #tolerance_parameter for fairness\n",
    "# T = 1000\n",
    "\n",
    "###### FOR BUDGET AND FAIRNESS BOTH ########\n",
    "arm_pulled_count, cost_records, reward_records, arm_pulled_records = fairness_with_budget_thompson_sampling(mu, budget, k, cost, alpha, r)\n",
    "regret_record = compute_regret(arm_pulled_records, mu, cost)\n",
    "\n",
    "###### FOR BUDGET ONLY ########\n",
    "\n",
    "print (regret_record[-1])\n",
    "print (len(regret_record))"
   ]
  },
  {
   "cell_type": "code",
   "execution_count": null,
   "metadata": {},
   "outputs": [],
   "source": []
  },
  {
   "cell_type": "code",
   "execution_count": null,
   "metadata": {},
   "outputs": [],
   "source": []
  }
 ],
 "metadata": {
  "language_info": {
   "codemirror_mode": {
    "name": "ipython",
    "version": 3
   },
   "file_extension": ".py",
   "mimetype": "text/x-python",
   "name": "python",
   "nbconvert_exporter": "python",
   "pygments_lexer": "ipython3",
   "version": "3.7.4-final"
  },
  "orig_nbformat": 2,
  "kernelspec": {
   "name": "python37464bitcontinuumvirtualenvb6d63fd23ed1499780646eaa8ac5e6d6",
   "display_name": "Python 3.7.4 64-bit ('Continuum': virtualenv)"
  }
 },
 "nbformat": 4,
 "nbformat_minor": 2
}