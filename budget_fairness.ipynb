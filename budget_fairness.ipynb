{
 "cells": [
  {
   "cell_type": "markdown",
   "metadata": {},
   "source": [
    "### Initialization"
   ]
  },
  {
   "cell_type": "code",
   "execution_count": 1,
   "metadata": {},
   "outputs": [],
   "source": [
    "from budget_mab import *\n",
    "nTimes = 10 ## number of times to run the algorithm\n",
    "B = 1000\n",
    "k = 10\n",
    "nTimes = 5\n",
    "reward_means = np.random.rand(k)\n",
    "cost_means = np.random.choice(range(1,k*10+1), size = k, replace = False)/(k*10)\n",
    "r = np.array([0.05]*k)\n",
    "alpha = 1000\n",
    "alphas = range(0, 1000, 200)"
   ]
  },
  {
   "cell_type": "markdown",
   "metadata": {},
   "source": [
    "### Budget MAB"
   ]
  },
  {
   "cell_type": "markdown",
   "metadata": {},
   "source": [
    "#### Thompson without fairness"
   ]
  },
  {
   "cell_type": "code",
   "execution_count": 2,
   "metadata": {},
   "outputs": [],
   "source": [
    "bud_arr, reg_array = run_mab(k, B, nTimes, reward_means, cost_means, \"thompson\")\n",
    "inds, reg = compute_average(reg_array, bud_arr, interval = 100, pick_file = \"thomp_without_fair.pickle\") ##Average regret across nTimes"
   ]
  },
  {
   "cell_type": "markdown",
   "metadata": {},
   "source": [
    "#### Thompson with fairness"
   ]
  },
  {
   "cell_type": "code",
   "execution_count": null,
   "metadata": {},
   "outputs": [],
   "source": [
    "bud_arr, reg_array, fair_viol_array = run_mab(k, B, nTimes, reward_means, cost_means, \"thompson\", alpha, r, None)\n",
    "inds, reg, fair_viol = compute_average(reg_array, bud_arr, fair_viol_array, interval = 100, pick_file = \"thomp_without_fair.pickle\") ##Average regret and fairness violation across nTimes"
   ]
  },
  {
   "cell_type": "markdown",
   "metadata": {},
   "source": [
    "#### UCB without fairness"
   ]
  },
  {
   "cell_type": "code",
   "execution_count": null,
   "metadata": {},
   "outputs": [],
   "source": [
    "bud_arr, reg_array = run_mab(k, B, nTimes, reward_means, cost_means, \"UCB\")\n",
    "inds, reg = compute_average(reg_array, bud_arr, interval = 100, pick_file = \"UCB_without_fair.pickle\") ##Average regret across nTimes"
   ]
  },
  {
   "cell_type": "markdown",
   "metadata": {},
   "source": [
    "#### UCB with fairness"
   ]
  },
  {
   "cell_type": "code",
   "execution_count": null,
   "metadata": {},
   "outputs": [],
   "source": [
    "bud_arr, reg_array, fair_viol_array = run_mab(k, B, nTimes, reward_means, cost_means, \"UCB\", alpha, r, None)\n",
    "inds, reg, fair_viol = compute_average(reg_array, bud_arr, fair_viol_array, interval = 100, pick_file = \"UCB_with_fair.pickle\") ##Average regret across nTimes"
   ]
  },
  {
   "cell_type": "markdown",
   "metadata": {},
   "source": [
    "#### Fairness and regret for different alphas"
   ]
  },
  {
   "cell_type": "code",
   "execution_count": 4,
   "metadata": {},
   "outputs": [
    {
     "ename": "TypeError",
     "evalue": "run_alphas_mab() got an unexpected keyword argument 'pick_file'",
     "output_type": "error",
     "traceback": [
      "\u001b[0;31m---------------------------------------------------------------------------\u001b[0m",
      "\u001b[0;31mTypeError\u001b[0m                                 Traceback (most recent call last)",
      "\u001b[0;32m<ipython-input-4-90343f76dd86>\u001b[0m in \u001b[0;36m<module>\u001b[0;34m\u001b[0m\n\u001b[0;32m----> 1\u001b[0;31m \u001b[0mregret\u001b[0m\u001b[0;34m,\u001b[0m \u001b[0mfairness_violation\u001b[0m \u001b[0;34m=\u001b[0m \u001b[0mrun_alphas_mab\u001b[0m\u001b[0;34m(\u001b[0m\u001b[0mk\u001b[0m\u001b[0;34m,\u001b[0m \u001b[0mB\u001b[0m\u001b[0;34m,\u001b[0m \u001b[0mnTimes\u001b[0m\u001b[0;34m,\u001b[0m \u001b[0mreward_means\u001b[0m\u001b[0;34m,\u001b[0m \u001b[0mcost_means\u001b[0m\u001b[0;34m,\u001b[0m \u001b[0;34m\"thompson\"\u001b[0m\u001b[0;34m,\u001b[0m \u001b[0malphas\u001b[0m\u001b[0;34m,\u001b[0m \u001b[0mr\u001b[0m\u001b[0;34m,\u001b[0m \u001b[0mpick_file\u001b[0m \u001b[0;34m=\u001b[0m \u001b[0;34m\"thomp_reg_fair.pickle\"\u001b[0m\u001b[0;34m)\u001b[0m\u001b[0;34m\u001b[0m\u001b[0;34m\u001b[0m\u001b[0m\n\u001b[0m",
      "\u001b[0;31mTypeError\u001b[0m: run_alphas_mab() got an unexpected keyword argument 'pick_file'"
     ]
    }
   ],
   "source": [
    "regret, fairness_violation = run_alphas_mab(k, B, nTimes, reward_means, cost_means, \"thompson\", alphas, r, pick_file = \"thomp_reg_fair.pickle\")"
   ]
  },
  {
   "cell_type": "code",
   "execution_count": null,
   "metadata": {},
   "outputs": [],
   "source": []
  }
 ],
 "metadata": {
  "kernelspec": {
   "display_name": "Python 3",
   "language": "python",
   "name": "python3"
  },
  "language_info": {
   "codemirror_mode": {
    "name": "ipython",
    "version": 3
   },
   "file_extension": ".py",
   "mimetype": "text/x-python",
   "name": "python",
   "nbconvert_exporter": "python",
   "pygments_lexer": "ipython3",
   "version": "3.7.4"
  }
 },
 "nbformat": 4,
 "nbformat_minor": 2
}
