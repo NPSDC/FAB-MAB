{
 "cells": [
  {
   "cell_type": "code",
   "execution_count": 14,
   "metadata": {},
   "outputs": [],
   "source": [
    "from budget_mab import *\n",
    "nTimes = 10 ## number of times to run the algorithm\n",
    "B = 1000\n",
    "k = 10\n",
    "nTimes = 10\n",
    "reward_means = np.random.rand(k)\n",
    "cost_means = np.random.choice(range(1,k*10+1), size = k, replace = False)/(k*10)\n",
    "\n",
    "bud_arr, reg_array = run_mab(k, B, nTimes, reward_means, cost_means, \"ucb_bud.pickle\", \"thompson\")\n",
    "inds, reg = compute_average_regret(reg_array, bud_arr, B, interval = 100)"
   ]
  },
  {
   "cell_type": "code",
   "execution_count": 15,
   "metadata": {},
   "outputs": [
    {
     "data": {
      "text/plain": [
       "array([   0.,  100.,  200.,  300.,  400.,  500.,  600.,  700.,  800.,\n",
       "        900., 1000.])"
      ]
     },
     "execution_count": 15,
     "metadata": {},
     "output_type": "execute_result"
    }
   ],
   "source": [
    "bud_arr[0][inds[0]]"
   ]
  },
  {
   "cell_type": "code",
   "execution_count": 23,
   "metadata": {},
   "outputs": [
    {
     "data": {
      "text/plain": [
       "array([0.83, 0.7 , 0.67, 0.09, 0.79, 0.89, 0.53, 0.03, 0.39, 0.47])"
      ]
     },
     "execution_count": 23,
     "metadata": {},
     "output_type": "execute_result"
    }
   ],
   "source": [
    "cost_means"
   ]
  },
  {
   "cell_type": "code",
   "execution_count": null,
   "metadata": {},
   "outputs": [],
   "source": []
  }
 ],
 "metadata": {
  "kernelspec": {
   "display_name": "Python 3",
   "language": "python",
   "name": "python3"
  },
  "language_info": {
   "codemirror_mode": {
    "name": "ipython",
    "version": 3
   },
   "file_extension": ".py",
   "mimetype": "text/x-python",
   "name": "python",
   "nbconvert_exporter": "python",
   "pygments_lexer": "ipython3",
   "version": "3.7.4"
  }
 },
 "nbformat": 4,
 "nbformat_minor": 2
}
