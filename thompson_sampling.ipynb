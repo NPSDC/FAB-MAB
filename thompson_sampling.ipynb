{
 "cells": [
  {
   "cell_type": "code",
   "execution_count": 1,
   "metadata": {},
   "outputs": [],
   "source": [
    "import numpy as np\n",
    "from scipy.stats import bernoulli\n",
    "from random import seed\n",
    "from random import random"
   ]
  },
  {
   "cell_type": "code",
   "execution_count": 19,
   "metadata": {},
   "outputs": [],
   "source": [
    "def initialize(k):\n",
    "    beta_distn_reward = []\n",
    "    for i in range(k):\n",
    "        beta_distn_reward.append([0.0,0.0])\n",
    "\n",
    "    return beta_distn_reward\n",
    "\n",
    "def sample_reward(arm_pulled, mu):\n",
    "    reward_received = bernoulli.rvs(mu[arm_pulled], size=1)[0]\n",
    "    return reward_received\n",
    "\n",
    "def update_distn(arm_pulled, beta_distn_reward, reward_received):\n",
    "    beta_distn_reward[arm_pulled][0] += reward_received\n",
    "    beta_distn_reward[arm_pulled][1] += (1-reward_received)\n",
    "    return beta_distn_reward\n",
    "\n",
    "def choose_arm(beta_distn_reward, k, mu):\n",
    "\n",
    "    sampled_mean_reward = np.array([0]*k, dtype=np.float)\n",
    "\n",
    "    for arm in range(k):\n",
    "        sampled_mean_reward[arm] = np.random.beta(beta_distn_reward[arm][0]+1, beta_distn_reward[arm][1]+1)\n",
    "    arm_pulled = np.argmax(sampled_mean_reward)\n",
    "    reward_received = sample_reward(arm_pulled, mu)\n",
    "    beta_distn_reward = update_distn(arm_pulled, beta_distn_reward, reward_received)\n",
    "\n",
    "    return reward_received, arm_pulled, beta_distn_reward\n",
    "\n",
    "def compute_best_arm(mu):\n",
    "    return np.argmax(mu)"
   ]
  },
  {
   "cell_type": "code",
   "execution_count": 20,
   "metadata": {
    "tags": [
     "outputPrepend"
    ]
   },
   "outputs": [],
   "source": [
    "def fairness_without_budget_thompson_sampling(mu, T, k, alpha = None, r = None):\n",
    "    reward_records = []\n",
    "    arm_pulled_records = []\n",
    "    arm_pulled_count = np.array([0]*k)\n",
    "\n",
    "    beta_distn_reward = initialize(k)\n",
    "\n",
    "    for t in range(T):\n",
    "        unfair_arm = []\n",
    "        unfair_val = []\n",
    "        if(alpha is not None and r is not None):\n",
    "            for i in range(k):\n",
    "                if (r[i]*(t-1) - arm_pulled_count[i]) > alpha:\n",
    "                    unfair_arm.append(i)\n",
    "                    unfair_val.append(r[i]*(t-1) - arm_pulled_count[i])\n",
    "        if unfair_arm:\n",
    "            arm_pulled = unfair_arm[np.argmax(np.array(unfair_val))]\n",
    "            reward_received = sample_reward(arm_pulled, mu)\n",
    "            # print(cost_received)\n",
    "            beta_distn_reward = update_distn(arm_pulled, beta_distn_reward, reward_received)\n",
    "        else:\n",
    "            reward_received, arm_pulled, beta_distn_reward = choose_arm(beta_distn_reward, k, mu)\n",
    "        \n",
    "        arm_pulled_count[arm_pulled] += 1\n",
    "        reward_records.append(reward_received)\n",
    "        arm_pulled_records.append(arm_pulled)\n",
    "\n",
    "\n",
    "    return arm_pulled_count, reward_records, arm_pulled_records"
   ]
  },
  {
   "cell_type": "code",
   "execution_count": 23,
   "metadata": {},
   "outputs": [],
   "source": [
    "def compute_regret(t,r,mu,reward_records):\n",
    "  reward_received = np.sum(reward_records)\n",
    "  reward_optimal_fair = np.sum(t*r*mu)+(1-np.sum(r))*t*np.max(np.array(mu))\n",
    "  return reward_optimal_fair - reward_received"
   ]
  },
  {
   "cell_type": "code",
   "execution_count": 35,
   "metadata": {},
   "outputs": [
    {
     "output_type": "stream",
     "name": "stdout",
     "text": "[22126  7874  2500  2500  2500  2500  2500  2500  2500  2500]\n34.0\n"
    }
   ],
   "source": [
    "k = 10                          #Number of arms\n",
    "mu = np.zeros(k)                #mean_rewards\n",
    "# seed(1)\n",
    "for i in range(k):\n",
    "  mu[i] = random()\n",
    "\n",
    "for i in range(k):\n",
    "  mu[i] = (0.8-0.01*i)\n",
    "\n",
    "T = count = 50000              #budget\n",
    "# r = np.zeros(k)\n",
    "r = np.array([0.05]*k)          #fairness_array for different arms\n",
    "alpha = 0                       #tolerance_parameter for fairness\n",
    "\n",
    "###### FOR BUDGET AND FAIRNESS BOTH ########\n",
    "arm_pulled_count, reward_records, arm_pulled_records = fairness_without_budget_thompson_sampling(mu, count, k, alpha, r)\n",
    "regret_record = compute_regret(count, r, mu, reward_records)\n",
    "print (arm_pulled_count)\n",
    "\n",
    "###### FOR BUDGET ONLY ########\n",
    "\n",
    "print (regret_record)\n",
    "# print (len(regret_record))"
   ]
  },
  {
   "cell_type": "code",
   "execution_count": 26,
   "metadata": {},
   "outputs": [
    {
     "output_type": "stream",
     "name": "stdout",
     "text": "502.45341784462556\n"
    }
   ],
   "source": []
  },
  {
   "cell_type": "code",
   "execution_count": 29,
   "metadata": {},
   "outputs": [
    {
     "output_type": "execute_result",
     "data": {
      "text/plain": "[<matplotlib.lines.Line2D at 0x233d68c9a08>]"
     },
     "metadata": {},
     "execution_count": 29
    },
    {
     "output_type": "display_data",
     "data": {
      "text/plain": "<Figure size 432x288 with 1 Axes>",
      "image/svg+xml": "<?xml version=\"1.0\" encoding=\"utf-8\" standalone=\"no\"?>\r\n<!DOCTYPE svg PUBLIC \"-//W3C//DTD SVG 1.1//EN\"\r\n  \"http://www.w3.org/Graphics/SVG/1.1/DTD/svg11.dtd\">\r\n<!-- Created with matplotlib (https://matplotlib.org/) -->\r\n<svg height=\"248.518125pt\" version=\"1.1\" viewBox=\"0 0 375.2875 248.518125\" width=\"375.2875pt\" xmlns=\"http://www.w3.org/2000/svg\" xmlns:xlink=\"http://www.w3.org/1999/xlink\">\r\n <defs>\r\n  <style type=\"text/css\">\r\n*{stroke-linecap:butt;stroke-linejoin:round;}\r\n  </style>\r\n </defs>\r\n <g id=\"figure_1\">\r\n  <g id=\"patch_1\">\r\n   <path d=\"M 0 248.518125 \r\nL 375.2875 248.518125 \r\nL 375.2875 0 \r\nL 0 0 \r\nz\r\n\" style=\"fill:none;\"/>\r\n  </g>\r\n  <g id=\"axes_1\">\r\n   <g id=\"patch_2\">\r\n    <path d=\"M 33.2875 224.64 \r\nL 368.0875 224.64 \r\nL 368.0875 7.2 \r\nL 33.2875 7.2 \r\nz\r\n\" style=\"fill:#ffffff;\"/>\r\n   </g>\r\n   <g id=\"matplotlib.axis_1\">\r\n    <g id=\"xtick_1\">\r\n     <g id=\"line2d_1\">\r\n      <defs>\r\n       <path d=\"M 0 0 \r\nL 0 3.5 \r\n\" id=\"m852668768e\" style=\"stroke:#000000;stroke-width:0.8;\"/>\r\n      </defs>\r\n      <g>\r\n       <use style=\"stroke:#000000;stroke-width:0.8;\" x=\"48.505682\" xlink:href=\"#m852668768e\" y=\"224.64\"/>\r\n      </g>\r\n     </g>\r\n     <g id=\"text_1\">\r\n      <!-- 0 -->\r\n      <defs>\r\n       <path d=\"M 31.78125 66.40625 \r\nQ 24.171875 66.40625 20.328125 58.90625 \r\nQ 16.5 51.421875 16.5 36.375 \r\nQ 16.5 21.390625 20.328125 13.890625 \r\nQ 24.171875 6.390625 31.78125 6.390625 \r\nQ 39.453125 6.390625 43.28125 13.890625 \r\nQ 47.125 21.390625 47.125 36.375 \r\nQ 47.125 51.421875 43.28125 58.90625 \r\nQ 39.453125 66.40625 31.78125 66.40625 \r\nz\r\nM 31.78125 74.21875 \r\nQ 44.046875 74.21875 50.515625 64.515625 \r\nQ 56.984375 54.828125 56.984375 36.375 \r\nQ 56.984375 17.96875 50.515625 8.265625 \r\nQ 44.046875 -1.421875 31.78125 -1.421875 \r\nQ 19.53125 -1.421875 13.0625 8.265625 \r\nQ 6.59375 17.96875 6.59375 36.375 \r\nQ 6.59375 54.828125 13.0625 64.515625 \r\nQ 19.53125 74.21875 31.78125 74.21875 \r\nz\r\n\" id=\"DejaVuSans-48\"/>\r\n      </defs>\r\n      <g transform=\"translate(45.324432 239.238437)scale(0.1 -0.1)\">\r\n       <use xlink:href=\"#DejaVuSans-48\"/>\r\n      </g>\r\n     </g>\r\n    </g>\r\n    <g id=\"xtick_2\">\r\n     <g id=\"line2d_2\">\r\n      <g>\r\n       <use style=\"stroke:#000000;stroke-width:0.8;\" x=\"95.044464\" xlink:href=\"#m852668768e\" y=\"224.64\"/>\r\n      </g>\r\n     </g>\r\n     <g id=\"text_2\">\r\n      <!-- 100000 -->\r\n      <defs>\r\n       <path d=\"M 12.40625 8.296875 \r\nL 28.515625 8.296875 \r\nL 28.515625 63.921875 \r\nL 10.984375 60.40625 \r\nL 10.984375 69.390625 \r\nL 28.421875 72.90625 \r\nL 38.28125 72.90625 \r\nL 38.28125 8.296875 \r\nL 54.390625 8.296875 \r\nL 54.390625 0 \r\nL 12.40625 0 \r\nz\r\n\" id=\"DejaVuSans-49\"/>\r\n      </defs>\r\n      <g transform=\"translate(75.956964 239.238437)scale(0.1 -0.1)\">\r\n       <use xlink:href=\"#DejaVuSans-49\"/>\r\n       <use x=\"63.623047\" xlink:href=\"#DejaVuSans-48\"/>\r\n       <use x=\"127.246094\" xlink:href=\"#DejaVuSans-48\"/>\r\n       <use x=\"190.869141\" xlink:href=\"#DejaVuSans-48\"/>\r\n       <use x=\"254.492188\" xlink:href=\"#DejaVuSans-48\"/>\r\n       <use x=\"318.115234\" xlink:href=\"#DejaVuSans-48\"/>\r\n      </g>\r\n     </g>\r\n    </g>\r\n    <g id=\"xtick_3\">\r\n     <g id=\"line2d_3\">\r\n      <g>\r\n       <use style=\"stroke:#000000;stroke-width:0.8;\" x=\"141.583246\" xlink:href=\"#m852668768e\" y=\"224.64\"/>\r\n      </g>\r\n     </g>\r\n     <g id=\"text_3\">\r\n      <!-- 200000 -->\r\n      <defs>\r\n       <path d=\"M 19.1875 8.296875 \r\nL 53.609375 8.296875 \r\nL 53.609375 0 \r\nL 7.328125 0 \r\nL 7.328125 8.296875 \r\nQ 12.9375 14.109375 22.625 23.890625 \r\nQ 32.328125 33.6875 34.8125 36.53125 \r\nQ 39.546875 41.84375 41.421875 45.53125 \r\nQ 43.3125 49.21875 43.3125 52.78125 \r\nQ 43.3125 58.59375 39.234375 62.25 \r\nQ 35.15625 65.921875 28.609375 65.921875 \r\nQ 23.96875 65.921875 18.8125 64.3125 \r\nQ 13.671875 62.703125 7.8125 59.421875 \r\nL 7.8125 69.390625 \r\nQ 13.765625 71.78125 18.9375 73 \r\nQ 24.125 74.21875 28.421875 74.21875 \r\nQ 39.75 74.21875 46.484375 68.546875 \r\nQ 53.21875 62.890625 53.21875 53.421875 \r\nQ 53.21875 48.921875 51.53125 44.890625 \r\nQ 49.859375 40.875 45.40625 35.40625 \r\nQ 44.1875 33.984375 37.640625 27.21875 \r\nQ 31.109375 20.453125 19.1875 8.296875 \r\nz\r\n\" id=\"DejaVuSans-50\"/>\r\n      </defs>\r\n      <g transform=\"translate(122.495746 239.238437)scale(0.1 -0.1)\">\r\n       <use xlink:href=\"#DejaVuSans-50\"/>\r\n       <use x=\"63.623047\" xlink:href=\"#DejaVuSans-48\"/>\r\n       <use x=\"127.246094\" xlink:href=\"#DejaVuSans-48\"/>\r\n       <use x=\"190.869141\" xlink:href=\"#DejaVuSans-48\"/>\r\n       <use x=\"254.492188\" xlink:href=\"#DejaVuSans-48\"/>\r\n       <use x=\"318.115234\" xlink:href=\"#DejaVuSans-48\"/>\r\n      </g>\r\n     </g>\r\n    </g>\r\n    <g id=\"xtick_4\">\r\n     <g id=\"line2d_4\">\r\n      <g>\r\n       <use style=\"stroke:#000000;stroke-width:0.8;\" x=\"188.122029\" xlink:href=\"#m852668768e\" y=\"224.64\"/>\r\n      </g>\r\n     </g>\r\n     <g id=\"text_4\">\r\n      <!-- 300000 -->\r\n      <defs>\r\n       <path d=\"M 40.578125 39.3125 \r\nQ 47.65625 37.796875 51.625 33 \r\nQ 55.609375 28.21875 55.609375 21.1875 \r\nQ 55.609375 10.40625 48.1875 4.484375 \r\nQ 40.765625 -1.421875 27.09375 -1.421875 \r\nQ 22.515625 -1.421875 17.65625 -0.515625 \r\nQ 12.796875 0.390625 7.625 2.203125 \r\nL 7.625 11.71875 \r\nQ 11.71875 9.328125 16.59375 8.109375 \r\nQ 21.484375 6.890625 26.8125 6.890625 \r\nQ 36.078125 6.890625 40.9375 10.546875 \r\nQ 45.796875 14.203125 45.796875 21.1875 \r\nQ 45.796875 27.640625 41.28125 31.265625 \r\nQ 36.765625 34.90625 28.71875 34.90625 \r\nL 20.21875 34.90625 \r\nL 20.21875 43.015625 \r\nL 29.109375 43.015625 \r\nQ 36.375 43.015625 40.234375 45.921875 \r\nQ 44.09375 48.828125 44.09375 54.296875 \r\nQ 44.09375 59.90625 40.109375 62.90625 \r\nQ 36.140625 65.921875 28.71875 65.921875 \r\nQ 24.65625 65.921875 20.015625 65.03125 \r\nQ 15.375 64.15625 9.8125 62.3125 \r\nL 9.8125 71.09375 \r\nQ 15.4375 72.65625 20.34375 73.4375 \r\nQ 25.25 74.21875 29.59375 74.21875 \r\nQ 40.828125 74.21875 47.359375 69.109375 \r\nQ 53.90625 64.015625 53.90625 55.328125 \r\nQ 53.90625 49.265625 50.4375 45.09375 \r\nQ 46.96875 40.921875 40.578125 39.3125 \r\nz\r\n\" id=\"DejaVuSans-51\"/>\r\n      </defs>\r\n      <g transform=\"translate(169.034529 239.238437)scale(0.1 -0.1)\">\r\n       <use xlink:href=\"#DejaVuSans-51\"/>\r\n       <use x=\"63.623047\" xlink:href=\"#DejaVuSans-48\"/>\r\n       <use x=\"127.246094\" xlink:href=\"#DejaVuSans-48\"/>\r\n       <use x=\"190.869141\" xlink:href=\"#DejaVuSans-48\"/>\r\n       <use x=\"254.492188\" xlink:href=\"#DejaVuSans-48\"/>\r\n       <use x=\"318.115234\" xlink:href=\"#DejaVuSans-48\"/>\r\n      </g>\r\n     </g>\r\n    </g>\r\n    <g id=\"xtick_5\">\r\n     <g id=\"line2d_5\">\r\n      <g>\r\n       <use style=\"stroke:#000000;stroke-width:0.8;\" x=\"234.660811\" xlink:href=\"#m852668768e\" y=\"224.64\"/>\r\n      </g>\r\n     </g>\r\n     <g id=\"text_5\">\r\n      <!-- 400000 -->\r\n      <defs>\r\n       <path d=\"M 37.796875 64.3125 \r\nL 12.890625 25.390625 \r\nL 37.796875 25.390625 \r\nz\r\nM 35.203125 72.90625 \r\nL 47.609375 72.90625 \r\nL 47.609375 25.390625 \r\nL 58.015625 25.390625 \r\nL 58.015625 17.1875 \r\nL 47.609375 17.1875 \r\nL 47.609375 0 \r\nL 37.796875 0 \r\nL 37.796875 17.1875 \r\nL 4.890625 17.1875 \r\nL 4.890625 26.703125 \r\nz\r\n\" id=\"DejaVuSans-52\"/>\r\n      </defs>\r\n      <g transform=\"translate(215.573311 239.238437)scale(0.1 -0.1)\">\r\n       <use xlink:href=\"#DejaVuSans-52\"/>\r\n       <use x=\"63.623047\" xlink:href=\"#DejaVuSans-48\"/>\r\n       <use x=\"127.246094\" xlink:href=\"#DejaVuSans-48\"/>\r\n       <use x=\"190.869141\" xlink:href=\"#DejaVuSans-48\"/>\r\n       <use x=\"254.492188\" xlink:href=\"#DejaVuSans-48\"/>\r\n       <use x=\"318.115234\" xlink:href=\"#DejaVuSans-48\"/>\r\n      </g>\r\n     </g>\r\n    </g>\r\n    <g id=\"xtick_6\">\r\n     <g id=\"line2d_6\">\r\n      <g>\r\n       <use style=\"stroke:#000000;stroke-width:0.8;\" x=\"281.199593\" xlink:href=\"#m852668768e\" y=\"224.64\"/>\r\n      </g>\r\n     </g>\r\n     <g id=\"text_6\">\r\n      <!-- 500000 -->\r\n      <defs>\r\n       <path d=\"M 10.796875 72.90625 \r\nL 49.515625 72.90625 \r\nL 49.515625 64.59375 \r\nL 19.828125 64.59375 \r\nL 19.828125 46.734375 \r\nQ 21.96875 47.46875 24.109375 47.828125 \r\nQ 26.265625 48.1875 28.421875 48.1875 \r\nQ 40.625 48.1875 47.75 41.5 \r\nQ 54.890625 34.8125 54.890625 23.390625 \r\nQ 54.890625 11.625 47.5625 5.09375 \r\nQ 40.234375 -1.421875 26.90625 -1.421875 \r\nQ 22.3125 -1.421875 17.546875 -0.640625 \r\nQ 12.796875 0.140625 7.71875 1.703125 \r\nL 7.71875 11.625 \r\nQ 12.109375 9.234375 16.796875 8.0625 \r\nQ 21.484375 6.890625 26.703125 6.890625 \r\nQ 35.15625 6.890625 40.078125 11.328125 \r\nQ 45.015625 15.765625 45.015625 23.390625 \r\nQ 45.015625 31 40.078125 35.4375 \r\nQ 35.15625 39.890625 26.703125 39.890625 \r\nQ 22.75 39.890625 18.8125 39.015625 \r\nQ 14.890625 38.140625 10.796875 36.28125 \r\nz\r\n\" id=\"DejaVuSans-53\"/>\r\n      </defs>\r\n      <g transform=\"translate(262.112093 239.238437)scale(0.1 -0.1)\">\r\n       <use xlink:href=\"#DejaVuSans-53\"/>\r\n       <use x=\"63.623047\" xlink:href=\"#DejaVuSans-48\"/>\r\n       <use x=\"127.246094\" xlink:href=\"#DejaVuSans-48\"/>\r\n       <use x=\"190.869141\" xlink:href=\"#DejaVuSans-48\"/>\r\n       <use x=\"254.492188\" xlink:href=\"#DejaVuSans-48\"/>\r\n       <use x=\"318.115234\" xlink:href=\"#DejaVuSans-48\"/>\r\n      </g>\r\n     </g>\r\n    </g>\r\n    <g id=\"xtick_7\">\r\n     <g id=\"line2d_7\">\r\n      <g>\r\n       <use style=\"stroke:#000000;stroke-width:0.8;\" x=\"327.738376\" xlink:href=\"#m852668768e\" y=\"224.64\"/>\r\n      </g>\r\n     </g>\r\n     <g id=\"text_7\">\r\n      <!-- 600000 -->\r\n      <defs>\r\n       <path d=\"M 33.015625 40.375 \r\nQ 26.375 40.375 22.484375 35.828125 \r\nQ 18.609375 31.296875 18.609375 23.390625 \r\nQ 18.609375 15.53125 22.484375 10.953125 \r\nQ 26.375 6.390625 33.015625 6.390625 \r\nQ 39.65625 6.390625 43.53125 10.953125 \r\nQ 47.40625 15.53125 47.40625 23.390625 \r\nQ 47.40625 31.296875 43.53125 35.828125 \r\nQ 39.65625 40.375 33.015625 40.375 \r\nz\r\nM 52.59375 71.296875 \r\nL 52.59375 62.3125 \r\nQ 48.875 64.0625 45.09375 64.984375 \r\nQ 41.3125 65.921875 37.59375 65.921875 \r\nQ 27.828125 65.921875 22.671875 59.328125 \r\nQ 17.53125 52.734375 16.796875 39.40625 \r\nQ 19.671875 43.65625 24.015625 45.921875 \r\nQ 28.375 48.1875 33.59375 48.1875 \r\nQ 44.578125 48.1875 50.953125 41.515625 \r\nQ 57.328125 34.859375 57.328125 23.390625 \r\nQ 57.328125 12.15625 50.6875 5.359375 \r\nQ 44.046875 -1.421875 33.015625 -1.421875 \r\nQ 20.359375 -1.421875 13.671875 8.265625 \r\nQ 6.984375 17.96875 6.984375 36.375 \r\nQ 6.984375 53.65625 15.1875 63.9375 \r\nQ 23.390625 74.21875 37.203125 74.21875 \r\nQ 40.921875 74.21875 44.703125 73.484375 \r\nQ 48.484375 72.75 52.59375 71.296875 \r\nz\r\n\" id=\"DejaVuSans-54\"/>\r\n      </defs>\r\n      <g transform=\"translate(308.650876 239.238437)scale(0.1 -0.1)\">\r\n       <use xlink:href=\"#DejaVuSans-54\"/>\r\n       <use x=\"63.623047\" xlink:href=\"#DejaVuSans-48\"/>\r\n       <use x=\"127.246094\" xlink:href=\"#DejaVuSans-48\"/>\r\n       <use x=\"190.869141\" xlink:href=\"#DejaVuSans-48\"/>\r\n       <use x=\"254.492188\" xlink:href=\"#DejaVuSans-48\"/>\r\n       <use x=\"318.115234\" xlink:href=\"#DejaVuSans-48\"/>\r\n      </g>\r\n     </g>\r\n    </g>\r\n   </g>\r\n   <g id=\"matplotlib.axis_2\">\r\n    <g id=\"ytick_1\">\r\n     <g id=\"line2d_8\">\r\n      <defs>\r\n       <path d=\"M 0 0 \r\nL -3.5 0 \r\n\" id=\"mec86c86166\" style=\"stroke:#000000;stroke-width:0.8;\"/>\r\n      </defs>\r\n      <g>\r\n       <use style=\"stroke:#000000;stroke-width:0.8;\" x=\"33.2875\" xlink:href=\"#mec86c86166\" y=\"215.449466\"/>\r\n      </g>\r\n     </g>\r\n     <g id=\"text_8\">\r\n      <!-- 0 -->\r\n      <g transform=\"translate(19.925 219.248685)scale(0.1 -0.1)\">\r\n       <use xlink:href=\"#DejaVuSans-48\"/>\r\n      </g>\r\n     </g>\r\n    </g>\r\n    <g id=\"ytick_2\">\r\n     <g id=\"line2d_9\">\r\n      <g>\r\n       <use style=\"stroke:#000000;stroke-width:0.8;\" x=\"33.2875\" xlink:href=\"#mec86c86166\" y=\"175.970019\"/>\r\n      </g>\r\n     </g>\r\n     <g id=\"text_9\">\r\n      <!-- 100 -->\r\n      <g transform=\"translate(7.2 179.769238)scale(0.1 -0.1)\">\r\n       <use xlink:href=\"#DejaVuSans-49\"/>\r\n       <use x=\"63.623047\" xlink:href=\"#DejaVuSans-48\"/>\r\n       <use x=\"127.246094\" xlink:href=\"#DejaVuSans-48\"/>\r\n      </g>\r\n     </g>\r\n    </g>\r\n    <g id=\"ytick_3\">\r\n     <g id=\"line2d_10\">\r\n      <g>\r\n       <use style=\"stroke:#000000;stroke-width:0.8;\" x=\"33.2875\" xlink:href=\"#mec86c86166\" y=\"136.490573\"/>\r\n      </g>\r\n     </g>\r\n     <g id=\"text_10\">\r\n      <!-- 200 -->\r\n      <g transform=\"translate(7.2 140.289791)scale(0.1 -0.1)\">\r\n       <use xlink:href=\"#DejaVuSans-50\"/>\r\n       <use x=\"63.623047\" xlink:href=\"#DejaVuSans-48\"/>\r\n       <use x=\"127.246094\" xlink:href=\"#DejaVuSans-48\"/>\r\n      </g>\r\n     </g>\r\n    </g>\r\n    <g id=\"ytick_4\">\r\n     <g id=\"line2d_11\">\r\n      <g>\r\n       <use style=\"stroke:#000000;stroke-width:0.8;\" x=\"33.2875\" xlink:href=\"#mec86c86166\" y=\"97.011126\"/>\r\n      </g>\r\n     </g>\r\n     <g id=\"text_11\">\r\n      <!-- 300 -->\r\n      <g transform=\"translate(7.2 100.810345)scale(0.1 -0.1)\">\r\n       <use xlink:href=\"#DejaVuSans-51\"/>\r\n       <use x=\"63.623047\" xlink:href=\"#DejaVuSans-48\"/>\r\n       <use x=\"127.246094\" xlink:href=\"#DejaVuSans-48\"/>\r\n      </g>\r\n     </g>\r\n    </g>\r\n    <g id=\"ytick_5\">\r\n     <g id=\"line2d_12\">\r\n      <g>\r\n       <use style=\"stroke:#000000;stroke-width:0.8;\" x=\"33.2875\" xlink:href=\"#mec86c86166\" y=\"57.531679\"/>\r\n      </g>\r\n     </g>\r\n     <g id=\"text_12\">\r\n      <!-- 400 -->\r\n      <g transform=\"translate(7.2 61.330898)scale(0.1 -0.1)\">\r\n       <use xlink:href=\"#DejaVuSans-52\"/>\r\n       <use x=\"63.623047\" xlink:href=\"#DejaVuSans-48\"/>\r\n       <use x=\"127.246094\" xlink:href=\"#DejaVuSans-48\"/>\r\n      </g>\r\n     </g>\r\n    </g>\r\n    <g id=\"ytick_6\">\r\n     <g id=\"line2d_13\">\r\n      <g>\r\n       <use style=\"stroke:#000000;stroke-width:0.8;\" x=\"33.2875\" xlink:href=\"#mec86c86166\" y=\"18.052232\"/>\r\n      </g>\r\n     </g>\r\n     <g id=\"text_13\">\r\n      <!-- 500 -->\r\n      <g transform=\"translate(7.2 21.851451)scale(0.1 -0.1)\">\r\n       <use xlink:href=\"#DejaVuSans-53\"/>\r\n       <use x=\"63.623047\" xlink:href=\"#DejaVuSans-48\"/>\r\n       <use x=\"127.246094\" xlink:href=\"#DejaVuSans-48\"/>\r\n      </g>\r\n     </g>\r\n    </g>\r\n   </g>\r\n   <g id=\"line2d_14\">\r\n    <path clip-path=\"url(#p76a262c640)\" d=\"M 48.505682 214.756364 \r\nL 48.97107 160.318378 \r\nL 49.901845 149.21626 \r\nL 50.367233 146.314795 \r\nL 50.832621 144.188585 \r\nL 51.298009 142.71319 \r\nL 51.763397 141.732617 \r\nL 52.228784 141.290798 \r\nL 52.694172 141.290798 \r\nL 53.15956 138.489946 \r\nL 53.624948 137.606308 \r\nL 54.090336 137.147242 \r\nL 54.555724 136.113667 \r\nL 55.021111 136.113667 \r\nL 55.486499 135.671847 \r\nL 56.882663 135.671847 \r\nL 57.34805 135.230028 \r\nL 58.278826 132.027956 \r\nL 58.744214 132.027956 \r\nL 59.209602 130.875787 \r\nL 60.140377 130.875787 \r\nL 60.605765 130.433968 \r\nL 61.071153 130.433968 \r\nL 61.536541 129.299046 \r\nL 62.001929 128.857227 \r\nL 62.467317 128.164124 \r\nL 62.932704 125.58851 \r\nL 67.121195 125.58851 \r\nL 67.586583 123.264179 \r\nL 68.517358 123.264179 \r\nL 68.982746 122.805113 \r\nL 69.913522 122.805113 \r\nL 70.37891 121.904228 \r\nL 70.844297 121.904228 \r\nL 71.309685 121.462409 \r\nL 71.775073 121.462409 \r\nL 72.705849 118.302623 \r\nL 73.171236 117.843557 \r\nL 73.636624 117.843557 \r\nL 74.5674 116.959919 \r\nL 75.032788 116.959919 \r\nL 75.963563 116.076281 \r\nL 76.428951 115.192642 \r\nL 76.894339 112.886612 \r\nL 77.359727 112.002974 \r\nL 78.290503 108.551306 \r\nL 78.75589 107.667668 \r\nL 79.221278 105.900391 \r\nL 79.686666 105.900391 \r\nL 80.617442 105.016753 \r\nL 81.082829 104.133115 \r\nL 81.548217 102.807658 \r\nL 82.013605 101.924019 \r\nL 82.478993 101.4822 \r\nL 82.944381 101.4822 \r\nL 83.409769 101.040381 \r\nL 83.875156 99.212357 \r\nL 84.340544 98.770537 \r\nL 84.805932 97.886899 \r\nL 85.27132 96.752711 \r\nL 85.736708 96.310892 \r\nL 86.202095 96.310892 \r\nL 86.667483 95.427254 \r\nL 87.132871 94.101796 \r\nL 88.063647 94.101796 \r\nL 88.529035 91.436999 \r\nL 88.994422 90.553361 \r\nL 89.45981 88.786084 \r\nL 90.390586 88.786084 \r\nL 90.855974 87.902446 \r\nL 93.648301 87.902446 \r\nL 94.113688 87.460627 \r\nL 97.371403 87.460627 \r\nL 97.836791 87.018808 \r\nL 98.302179 87.018808 \r\nL 98.767567 84.813077 \r\nL 99.232955 84.813077 \r\nL 99.698342 84.371258 \r\nL 104.817608 84.371258 \r\nL 105.282996 83.929439 \r\nL 109.471487 83.929439 \r\nL 109.936874 82.165527 \r\nL 110.402262 81.723708 \r\nL 110.86765 81.723708 \r\nL 111.333038 81.281889 \r\nL 112.729201 81.281889 \r\nL 113.194589 80.822823 \r\nL 115.056141 80.822823 \r\nL 115.521528 80.381004 \r\nL 117.38308 80.381004 \r\nL 117.848467 79.939185 \r\nL 120.175407 79.939185 \r\nL 121.106182 79.038299 \r\nL 121.57157 77.615907 \r\nL 122.502346 77.615907 \r\nL 122.967734 77.156841 \r\nL 123.433121 76.176268 \r\nL 124.363897 75.29263 \r\nL 125.294673 75.29263 \r\nL 125.76006 74.850811 \r\nL 127.156224 74.850811 \r\nL 128.087 73.967173 \r\nL 129.017775 73.967173 \r\nL 129.483163 73.525353 \r\nL 129.948551 72.148155 \r\nL 132.27549 72.148155 \r\nL 132.740878 71.706336 \r\nL 135.533205 71.706336 \r\nL 135.998593 71.013233 \r\nL 136.46398 70.571414 \r\nL 136.929368 69.687776 \r\nL 138.79092 69.687776 \r\nL 139.256307 68.804137 \r\nL 139.721695 68.804137 \r\nL 140.187083 68.362318 \r\nL 142.514022 68.362318 \r\nL 142.97941 67.669216 \r\nL 143.444798 67.669216 \r\nL 143.910186 67.227397 \r\nL 149.494839 67.227397 \r\nL 150.425615 66.343758 \r\nL 151.356391 66.343758 \r\nL 151.821779 65.901939 \r\nL 152.752554 65.901939 \r\nL 153.217942 65.442873 \r\nL 154.614106 65.442873 \r\nL 155.544881 64.559235 \r\nL 159.267984 64.559235 \r\nL 159.733372 63.675596 \r\nL 160.664147 63.675596 \r\nL 161.129535 63.233777 \r\nL 166.714189 63.233777 \r\nL 167.179577 62.791958 \r\nL 168.57574 62.791958 \r\nL 169.041128 61.90832 \r\nL 175.09117 61.90832 \r\nL 175.556558 61.466501 \r\nL 179.27966 61.466501 \r\nL 179.745048 61.007435 \r\nL 183.468151 61.007435 \r\nL 183.933538 60.123796 \r\nL 184.398926 59.681977 \r\nL 186.260477 59.681977 \r\nL 186.725865 59.240158 \r\nL 189.98358 59.240158 \r\nL 190.448968 58.798339 \r\nL 191.845131 58.798339 \r\nL 193.241295 57.472882 \r\nL 193.706683 57.472882 \r\nL 194.17207 56.492309 \r\nL 195.102846 56.492309 \r\nL 195.568234 55.60867 \r\nL 196.964397 55.60867 \r\nL 197.429785 55.166851 \r\nL 197.895173 54.283213 \r\nL 198.360561 54.283213 \r\nL 199.291337 53.399575 \r\nL 199.756724 52.515936 \r\nL 201.618276 50.74866 \r\nL 202.083663 50.74866 \r\nL 202.549051 48.424329 \r\nL 203.945215 48.424329 \r\nL 204.410603 47.98251 \r\nL 204.87599 47.98251 \r\nL 205.341378 47.523444 \r\nL 205.806766 46.639806 \r\nL 206.272154 46.639806 \r\nL 207.20293 45.756167 \r\nL 208.599093 45.756167 \r\nL 209.064481 45.297101 \r\nL 211.39142 45.297101 \r\nL 212.322196 44.413463 \r\nL 215.57991 44.413463 \r\nL 216.045298 43.971644 \r\nL 216.510686 43.971644 \r\nL 216.976074 41.828187 \r\nL 217.441462 41.369121 \r\nL 219.303013 41.369121 \r\nL 219.768401 40.927301 \r\nL 220.699176 40.927301 \r\nL 221.164564 40.234199 \r\nL 223.956891 40.234199 \r\nL 224.422279 39.79238 \r\nL 225.353055 39.79238 \r\nL 225.818442 39.333313 \r\nL 227.679994 39.333313 \r\nL 228.145382 38.891494 \r\nL 228.610769 38.891494 \r\nL 229.076157 38.449675 \r\nL 232.333872 38.449675 \r\nL 232.79926 38.007856 \r\nL 234.195423 38.007856 \r\nL 234.660811 37.566037 \r\nL 238.383914 37.566037 \r\nL 238.849302 37.124218 \r\nL 240.710853 37.124218 \r\nL 241.176241 36.682399 \r\nL 244.899343 36.682399 \r\nL 245.364731 34.799887 \r\nL 246.760894 34.799887 \r\nL 247.226282 32.673677 \r\nL 248.157058 32.673677 \r\nL 248.622446 32.231858 \r\nL 249.087834 32.231858 \r\nL 249.553221 31.790039 \r\nL 252.810936 31.790039 \r\nL 253.276324 30.889154 \r\nL 258.860978 30.889154 \r\nL 259.326366 30.447334 \r\nL 262.118693 30.447334 \r\nL 263.049468 29.546449 \r\nL 264.91102 29.546449 \r\nL 265.376407 29.10463 \r\nL 270.030286 29.10463 \r\nL 270.495673 28.662811 \r\nL 271.426449 28.662811 \r\nL 271.891837 28.220992 \r\nL 277.941879 28.220992 \r\nL 278.872654 27.337353 \r\nL 286.318859 27.337353 \r\nL 286.784247 26.895534 \r\nL 291.438126 26.895534 \r\nL 291.903513 26.202432 \r\nL 292.368901 25.760613 \r\nL 298.418943 25.760613 \r\nL 298.884331 25.318793 \r\nL 313.311353 25.318793 \r\nL 313.776741 24.625691 \r\nL 316.10368 24.625691 \r\nL 316.569068 24.183872 \r\nL 320.757558 24.183872 \r\nL 321.222946 23.742052 \r\nL 322.61911 23.742052 \r\nL 323.084497 21.940282 \r\nL 324.480661 21.940282 \r\nL 324.946049 21.498463 \r\nL 327.738376 21.498463 \r\nL 328.203764 21.056644 \r\nL 331.926866 21.056644 \r\nL 332.392254 20.614824 \r\nL 335.184581 20.614824 \r\nL 335.649969 18.850913 \r\nL 338.442296 18.850913 \r\nL 338.907683 18.409094 \r\nL 343.096174 18.409094 \r\nL 343.561562 17.525455 \r\nL 349.146216 17.525455 \r\nL 349.611603 17.083636 \r\nL 352.869318 17.083636 \r\nL 352.869318 17.083636 \r\n\" style=\"fill:none;stroke:#0000ff;stroke-linecap:square;stroke-width:1.5;\"/>\r\n   </g>\r\n   <g id=\"patch_3\">\r\n    <path d=\"M 33.2875 224.64 \r\nL 33.2875 7.2 \r\n\" style=\"fill:none;stroke:#000000;stroke-linecap:square;stroke-linejoin:miter;stroke-width:0.8;\"/>\r\n   </g>\r\n   <g id=\"patch_4\">\r\n    <path d=\"M 368.0875 224.64 \r\nL 368.0875 7.2 \r\n\" style=\"fill:none;stroke:#000000;stroke-linecap:square;stroke-linejoin:miter;stroke-width:0.8;\"/>\r\n   </g>\r\n   <g id=\"patch_5\">\r\n    <path d=\"M 33.2875 224.64 \r\nL 368.0875 224.64 \r\n\" style=\"fill:none;stroke:#000000;stroke-linecap:square;stroke-linejoin:miter;stroke-width:0.8;\"/>\r\n   </g>\r\n   <g id=\"patch_6\">\r\n    <path d=\"M 33.2875 7.2 \r\nL 368.0875 7.2 \r\n\" style=\"fill:none;stroke:#000000;stroke-linecap:square;stroke-linejoin:miter;stroke-width:0.8;\"/>\r\n   </g>\r\n  </g>\r\n </g>\r\n <defs>\r\n  <clipPath id=\"p76a262c640\">\r\n   <rect height=\"217.44\" width=\"334.8\" x=\"33.2875\" y=\"7.2\"/>\r\n  </clipPath>\r\n </defs>\r\n</svg>\r\n",
      "image/png": "[encoded data removed]"
     },
     "metadata": {
      "needs_background": "light"
     }
    }
   ],
   "source": []
  },
  {
   "cell_type": "code",
   "execution_count": null,
   "metadata": {},
   "outputs": [],
   "source": []
  }
 ],
 "metadata": {
  "language_info": {
   "codemirror_mode": {
    "name": "ipython",
    "version": 3
   },
   "file_extension": ".py",
   "mimetype": "text/x-python",
   "name": "python",
   "nbconvert_exporter": "python",
   "pygments_lexer": "ipython3",
   "version": "3.7.4-final"
  },
  "orig_nbformat": 2,
  "kernelspec": {
   "name": "python37464bitcontinuumvirtualenvb6d63fd23ed1499780646eaa8ac5e6d6",
   "display_name": "Python 3.7.4 64-bit ('Continuum': virtualenv)"
  }
 },
 "nbformat": 4,
 "nbformat_minor": 2
}