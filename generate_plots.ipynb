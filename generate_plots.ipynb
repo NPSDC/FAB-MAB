{
 "cells": [
  {
   "cell_type": "code",
   "execution_count": 3,
   "metadata": {},
   "outputs": [],
   "source": [
    "import matplotlib.pyplot as plt"
   ]
  },
  {
   "cell_type": "code",
   "execution_count": 4,
   "metadata": {},
   "outputs": [],
   "source": [
    "def plot_one_yaxis(xupper, xstep, yaxis_lists, yaxis_labels, file_name, xlabel, ylabel):\n",
    "    t = range(0,xupper+1,xstep)\n",
    "    colors = [\"aqua\", \"black\", \"blue\", \"fuchsia\", \"gray\", \"green\", \"lime\", \"maroon\", \"navy\", \"olive\", \"purple\", \"red\", \"silver\", \"teal\", \"yellow\"]\n",
    "    fig = plt.figure(figsize=(10, 6))\n",
    "    ax = fig.add_subplot(111)\n",
    "    # colors = ['b-','r-','g-']\n",
    "    for i in range(len(yaxis_lists)):\n",
    "        ax.plot(t, yaxis_lists[i], color=colors[i], label=yaxis_labels[i])\n",
    "    ax.legend(loc='upper right')\n",
    "    ax.set_xlabel(xlabel)\n",
    "    ax.set_ylabel(ylabel)\n",
    "    fig.tight_layout() \n",
    "    plt.savefig(file_name)"
   ]
  },
  {
   "cell_type": "code",
   "execution_count": 32,
   "metadata": {},
   "outputs": [],
   "source": [
    "def plot_different_scales(xupper, xstep, yaxis1_lists, yaxis2_lists, yaxis1_labels, yaxis2_labels, file_name, xlabel, ylabel1, ylabel2):\n",
    "    t = range(0,xupper+1,xstep)\n",
    "    colors = [\"aqua\", \"black\", \"blue\", \"fuchsia\", \"gray\", \"green\", \"lime\", \"maroon\", \"navy\", \"olive\", \"purple\", \"red\", \"silver\", \"teal\", \"yellow\"]\n",
    "    fig, ax1 = plt.subplots(figsize=(12, 6))\n",
    "    j = 0\n",
    "    for i in range(len(yaxis1_lists)):\n",
    "        ax1.plot(t, yaxis1_lists[i], color=colors[j], label=yaxis1_labels[i]+' regret')\n",
    "        j+=1\n",
    "    ax1.legend(bbox_to_anchor=(1.5, 1))\n",
    "    ax1.set_xlabel(xlabel)\n",
    "    ax1.set_ylabel(ylabel1)\n",
    "\n",
    "    ax2 = ax1.twinx()\n",
    "\n",
    "    for i in range(len(yaxis2_lists)):\n",
    "        ax2.plot(t, yaxis2_lists[i], color=colors[j], label=yaxis2_labels[i]+' fairness')\n",
    "        j+=1\n",
    "    ax2.legend(bbox_to_anchor=(1.5, 0.75))\n",
    "    ax2.set_xlabel(xlabel)\n",
    "    ax2.set_ylabel(ylabel2)\n",
    "\n",
    "    fig.tight_layout() \n",
    "    plt.savefig(file_name)"
   ]
  },
  {
   "cell_type": "code",
   "execution_count": 44,
   "metadata": {},
   "outputs": [
    {
     "output_type": "error",
     "ename": "SyntaxError",
     "evalue": "invalid syntax (<ipython-input-44-c543b391dc10>, line 17)",
     "traceback": [
      "\u001b[1;36m  File \u001b[1;32m\"<ipython-input-44-c543b391dc10>\"\u001b[1;36m, line \u001b[1;32m17\u001b[0m\n\u001b[1;33m    plot_one_yaxis(xupper, xstep, [all_lists_thompson, all_lists_ucb, ['Thompson Sampling','UCB'], 'regret_vs_time_for_budget_ntimes_100.png', 'Budget', 'Fairness Violation')\u001b[0m\n\u001b[1;37m                                                                                                                                                                             ^\u001b[0m\n\u001b[1;31mSyntaxError\u001b[0m\u001b[1;31m:\u001b[0m invalid syntax\n"
     ]
    }
   ],
   "source": [
    "import pickle as pi\n",
    "file_thompson = open('thomp_without_fair_100.pickle', 'rb')\n",
    "file_ucb = open('UCB_no_fair_100.pickle','rb')\n",
    "all_lists_thompson = pi.load(file_thompson)\n",
    "all_lists_ucb = pi.load(file_ucb)\n",
    "file_thompson.close()\n",
    "file_ucb.close()\n",
    "# regret = all_lists[0]\n",
    "# fairness_violation_plot = all_lists[1]\n",
    "# k=10\n",
    "# xstep_alpha = 5000\n",
    "# xupper_alpha = 45000\n",
    "xstep = 1000\n",
    "xupper = 50000\n",
    "# print(len(all_lists_thompson[0]))\n",
    "# fairness_violation = pi.load(file)\n",
    "plot_one_yaxis(xupper, xstep, [all_lists_thompson, all_lists_ucb, ['Thompson Sampling','UCB'], 'regret_vs_time_for_budget_ntimes_100.png', 'Budget', 'Cumulative Regret')\n",
    "\n",
    "# plot_different_scales(xupper,xstep,[all_lists_thompson[0], all_lists_ucb[0]],[all_lists_thompson[1], all_lists_ucb[1]],  ['Thompson Sampling','UCB'],  ['Thompson Sampling','UCB'], 'fairness_regret_vs_alpha_budget_with_fairness.png', 'Tolerance Factor alpha', 'Regret','Fairness violation')"
   ]
  },
  {
   "cell_type": "code",
   "execution_count": null,
   "metadata": {},
   "outputs": [],
   "source": []
  }
 ],
 "metadata": {
  "language_info": {
   "codemirror_mode": {
    "name": "ipython",
    "version": 3
   },
   "file_extension": ".py",
   "mimetype": "text/x-python",
   "name": "python",
   "nbconvert_exporter": "python",
   "pygments_lexer": "ipython3",
   "version": "3.7.4-final"
  },
  "orig_nbformat": 2,
  "kernelspec": {
   "name": "python37464bitcontinuumvirtualenvb6d63fd23ed1499780646eaa8ac5e6d6",
   "display_name": "Python 3.7.4 64-bit ('Continuum': virtualenv)"
  }
 },
 "nbformat": 4,
 "nbformat_minor": 2
}